{
  "cells": [
    {
      "cell_type": "markdown",
      "source": [
        "# Praktikum 1 - Klasifikasi Cat dan Dog\n",
        "----"
      ],
      "metadata": {
        "id": "qeqHh4wyiGU6"
      }
    },
    {
      "cell_type": "markdown",
      "metadata": {
        "id": "CJYSVwj6qkvM"
      },
      "source": [
        "### Langkah 1 - Import Library"
      ]
    },
    {
      "cell_type": "code",
      "execution_count": null,
      "metadata": {
        "id": "4nFcpf8jqkvO"
      },
      "outputs": [],
      "source": [
        "import tensorflow as tf\n",
        "from keras.preprocessing.image import ImageDataGenerator"
      ]
    },
    {
      "cell_type": "markdown",
      "source": [
        "### Langkah 2.1. Pra Pengolahan Data Training"
      ],
      "metadata": {
        "id": "Xv8SuoLurZvR"
      }
    },
    {
      "cell_type": "code",
      "source": [
        "from google.colab import drive\n",
        "drive.mount('/content/drive')"
      ],
      "metadata": {
        "id": "WkTL2VHiq_kE",
        "outputId": "197fd69a-d650-466d-e525-6df3bd352802",
        "colab": {
          "base_uri": "https://localhost:8080/"
        }
      },
      "execution_count": null,
      "outputs": [
        {
          "output_type": "stream",
          "name": "stdout",
          "text": [
            "Mounted at /content/drive\n"
          ]
        }
      ]
    },
    {
      "cell_type": "code",
      "source": [
        "train_datagen = ImageDataGenerator(rescale = 1./255,\n",
        "                                   shear_range = 0.2,\n",
        "                                   zoom_range = 0.2,\n",
        "                                   horizontal_flip = True)\n",
        "training_set = train_datagen.flow_from_directory('/content/drive/MyDrive/Machine Learning 23/dataset/training_set',\n",
        "                                                 target_size = (64, 64),\n",
        "                                                 batch_size = 32,\n",
        "                                                 class_mode = 'binary')"
      ],
      "metadata": {
        "id": "dKjILot7rIGM",
        "outputId": "c01cfbd0-fbbc-496e-a615-bbd60538abe7",
        "colab": {
          "base_uri": "https://localhost:8080/"
        }
      },
      "execution_count": null,
      "outputs": [
        {
          "output_type": "stream",
          "name": "stdout",
          "text": [
            "Found 3215 images belonging to 2 classes.\n"
          ]
        }
      ]
    },
    {
      "cell_type": "markdown",
      "source": [
        "### Langkah 2.2. Pra Pengolahan Data Testing"
      ],
      "metadata": {
        "id": "O-LfDLq4rcaP"
      }
    },
    {
      "cell_type": "code",
      "source": [
        "test_datagen = ImageDataGenerator(rescale = 1./255)\n",
        "test_set = test_datagen.flow_from_directory('/content/drive/MyDrive/Machine Learning 23/dataset/training_set',\n",
        "                                            target_size = (64, 64),\n",
        "                                            batch_size = 32,\n",
        "                                            class_mode = 'binary')"
      ],
      "metadata": {
        "id": "Q3rhN7SmrgdV",
        "outputId": "6f4de7d0-55e4-4b64-d58e-ba5a9733f875",
        "colab": {
          "base_uri": "https://localhost:8080/"
        }
      },
      "execution_count": null,
      "outputs": [
        {
          "output_type": "stream",
          "name": "stdout",
          "text": [
            "Found 3215 images belonging to 2 classes.\n"
          ]
        }
      ]
    },
    {
      "cell_type": "markdown",
      "source": [
        "## Langkah 3 - Pembuatan Model CNN\n",
        "### Langkah 3.1.  - Inisiasi Model CNN"
      ],
      "metadata": {
        "id": "sacpV0bJrumB"
      }
    },
    {
      "cell_type": "code",
      "source": [
        "cnn = tf.keras.models.Sequential()"
      ],
      "metadata": {
        "id": "qdVJZU61rz6W"
      },
      "execution_count": null,
      "outputs": []
    },
    {
      "cell_type": "markdown",
      "source": [
        "### Langkah 3.2. - Pembuatan Layer Konvolusi 1"
      ],
      "metadata": {
        "id": "_pdjyvvnr4DV"
      }
    },
    {
      "cell_type": "code",
      "source": [
        "cnn.add(tf.keras.layers.Conv2D(filters=32, kernel_size=3, activation='relu', input_shape=[64, 64, 3]))"
      ],
      "metadata": {
        "id": "q65PHPhgr5ER"
      },
      "execution_count": null,
      "outputs": []
    },
    {
      "cell_type": "markdown",
      "source": [
        "### Langkah 3.3 - Pembuatan Layer Pooling 1"
      ],
      "metadata": {
        "id": "L3o4nR61r9Ry"
      }
    },
    {
      "cell_type": "code",
      "source": [
        "cnn.add(tf.keras.layers.MaxPool2D(pool_size=2, strides=2))"
      ],
      "metadata": {
        "id": "Kq0ip-0cr-QY"
      },
      "execution_count": null,
      "outputs": []
    },
    {
      "cell_type": "markdown",
      "source": [
        "### Langkah 3.4 - Pembuatan Layer Konvolusi 2 dan Pooling 2"
      ],
      "metadata": {
        "id": "wQE9ncWHsFWs"
      }
    },
    {
      "cell_type": "code",
      "source": [
        "cnn.add(tf.keras.layers.Conv2D(filters=32, kernel_size=3, activation='relu'))\n",
        "cnn.add(tf.keras.layers.MaxPool2D(pool_size=2, strides=2))"
      ],
      "metadata": {
        "id": "MkK7pO9fsGYR"
      },
      "execution_count": null,
      "outputs": []
    },
    {
      "cell_type": "markdown",
      "source": [
        "### Langkah 3.5 - Flattening"
      ],
      "metadata": {
        "id": "TUZtkDaBsJTA"
      }
    },
    {
      "cell_type": "code",
      "source": [
        "cnn.add(tf.keras.layers.Flatten())"
      ],
      "metadata": {
        "id": "imZ25j9TsKV0"
      },
      "execution_count": null,
      "outputs": []
    },
    {
      "cell_type": "markdown",
      "source": [
        "### Langkah 3.6 - Fully Connected Layer 1 (Input)"
      ],
      "metadata": {
        "id": "lNHkvUBlsN0W"
      }
    },
    {
      "cell_type": "code",
      "source": [
        "cnn.add(tf.keras.layers.Dense(units=128, activation='relu'))"
      ],
      "metadata": {
        "id": "cEfEeMd1sPAx"
      },
      "execution_count": null,
      "outputs": []
    },
    {
      "cell_type": "markdown",
      "source": [
        "### Langkah 3.7 - Fully Connected Layer 2 (Output)"
      ],
      "metadata": {
        "id": "_P2TOX6wsTQw"
      }
    },
    {
      "cell_type": "code",
      "source": [
        "cnn.add(tf.keras.layers.Dense(units=1, activation='sigmoid'))"
      ],
      "metadata": {
        "id": "YDRCnsMFsUcR"
      },
      "execution_count": null,
      "outputs": []
    },
    {
      "cell_type": "markdown",
      "source": [
        "### Langkah 3.8 - Compile Model CNN"
      ],
      "metadata": {
        "id": "x9ATJ55PsXK3"
      }
    },
    {
      "cell_type": "code",
      "source": [
        "cnn.compile(optimizer = 'adam', loss = 'binary_crossentropy', metrics = ['accuracy'])"
      ],
      "metadata": {
        "id": "52jZt2cHsYUx"
      },
      "execution_count": null,
      "outputs": []
    },
    {
      "cell_type": "markdown",
      "source": [
        "## Langkah 4 - Fit CNN"
      ],
      "metadata": {
        "id": "vs_8HJyZsdy4"
      }
    },
    {
      "cell_type": "code",
      "source": [
        "cnn.fit(x = training_set, validation_data = test_set, epochs = 25)"
      ],
      "metadata": {
        "id": "ZnIxpHM7sewN",
        "outputId": "3c35711c-a77a-443e-ca3c-63e447d17fd4",
        "colab": {
          "base_uri": "https://localhost:8080/"
        }
      },
      "execution_count": null,
      "outputs": [
        {
          "output_type": "stream",
          "name": "stdout",
          "text": [
            "Epoch 1/25\n",
            "101/101 [==============================] - 611s 6s/step - loss: 1.9119e-13 - accuracy: 1.0000 - val_loss: 1.2897e-14 - val_accuracy: 1.0000\n",
            "Epoch 2/25\n",
            "101/101 [==============================] - 23s 231ms/step - loss: 2.9642e-14 - accuracy: 1.0000 - val_loss: 1.2896e-14 - val_accuracy: 1.0000\n",
            "Epoch 3/25\n",
            "101/101 [==============================] - 20s 199ms/step - loss: 2.9817e-13 - accuracy: 1.0000 - val_loss: 1.2896e-14 - val_accuracy: 1.0000\n",
            "Epoch 4/25\n",
            "101/101 [==============================] - 20s 203ms/step - loss: 3.4245e-14 - accuracy: 1.0000 - val_loss: 1.2896e-14 - val_accuracy: 1.0000\n",
            "Epoch 5/25\n",
            "101/101 [==============================] - 21s 205ms/step - loss: 1.0929e-13 - accuracy: 1.0000 - val_loss: 1.2896e-14 - val_accuracy: 1.0000\n",
            "Epoch 6/25\n",
            "101/101 [==============================] - 20s 202ms/step - loss: 2.2486e-13 - accuracy: 1.0000 - val_loss: 1.2896e-14 - val_accuracy: 1.0000\n",
            "Epoch 7/25\n",
            "101/101 [==============================] - 20s 200ms/step - loss: 8.5167e-14 - accuracy: 1.0000 - val_loss: 1.2896e-14 - val_accuracy: 1.0000\n",
            "Epoch 8/25\n",
            "101/101 [==============================] - 20s 202ms/step - loss: 3.0674e-14 - accuracy: 1.0000 - val_loss: 1.2896e-14 - val_accuracy: 1.0000\n",
            "Epoch 9/25\n",
            "101/101 [==============================] - 21s 209ms/step - loss: 1.2952e-12 - accuracy: 1.0000 - val_loss: 1.2896e-14 - val_accuracy: 1.0000\n",
            "Epoch 10/25\n",
            "101/101 [==============================] - 21s 204ms/step - loss: 2.8652e-14 - accuracy: 1.0000 - val_loss: 1.2896e-14 - val_accuracy: 1.0000\n",
            "Epoch 11/25\n",
            "101/101 [==============================] - 21s 211ms/step - loss: 1.6373e-13 - accuracy: 1.0000 - val_loss: 1.2896e-14 - val_accuracy: 1.0000\n",
            "Epoch 12/25\n",
            "101/101 [==============================] - 20s 204ms/step - loss: 3.7494e-13 - accuracy: 1.0000 - val_loss: 1.2896e-14 - val_accuracy: 1.0000\n",
            "Epoch 13/25\n",
            "101/101 [==============================] - 20s 202ms/step - loss: 6.4268e-13 - accuracy: 1.0000 - val_loss: 1.2896e-14 - val_accuracy: 1.0000\n",
            "Epoch 14/25\n",
            "101/101 [==============================] - 23s 230ms/step - loss: 5.9296e-12 - accuracy: 1.0000 - val_loss: 1.2896e-14 - val_accuracy: 1.0000\n",
            "Epoch 15/25\n",
            "101/101 [==============================] - 20s 203ms/step - loss: 4.3653e-14 - accuracy: 1.0000 - val_loss: 1.2896e-14 - val_accuracy: 1.0000\n",
            "Epoch 16/25\n",
            "101/101 [==============================] - 23s 230ms/step - loss: 3.9454e-13 - accuracy: 1.0000 - val_loss: 1.2896e-14 - val_accuracy: 1.0000\n",
            "Epoch 17/25\n",
            "101/101 [==============================] - 20s 194ms/step - loss: 3.1429e-13 - accuracy: 1.0000 - val_loss: 1.2896e-14 - val_accuracy: 1.0000\n",
            "Epoch 18/25\n",
            "101/101 [==============================] - 20s 201ms/step - loss: 7.7212e-14 - accuracy: 1.0000 - val_loss: 1.2896e-14 - val_accuracy: 1.0000\n",
            "Epoch 19/25\n",
            "101/101 [==============================] - 23s 230ms/step - loss: 3.8674e-13 - accuracy: 1.0000 - val_loss: 1.2896e-14 - val_accuracy: 1.0000\n",
            "Epoch 20/25\n",
            "101/101 [==============================] - 20s 200ms/step - loss: 4.0444e-14 - accuracy: 1.0000 - val_loss: 1.2896e-14 - val_accuracy: 1.0000\n",
            "Epoch 21/25\n",
            "101/101 [==============================] - 20s 201ms/step - loss: 1.9021e-14 - accuracy: 1.0000 - val_loss: 1.2896e-14 - val_accuracy: 1.0000\n",
            "Epoch 22/25\n",
            "101/101 [==============================] - 21s 208ms/step - loss: 5.9320e-13 - accuracy: 1.0000 - val_loss: 1.2896e-14 - val_accuracy: 1.0000\n",
            "Epoch 23/25\n",
            "101/101 [==============================] - 20s 201ms/step - loss: 2.3634e-14 - accuracy: 1.0000 - val_loss: 1.2896e-14 - val_accuracy: 1.0000\n",
            "Epoch 24/25\n",
            "101/101 [==============================] - 21s 208ms/step - loss: 1.5886e-13 - accuracy: 1.0000 - val_loss: 1.2896e-14 - val_accuracy: 1.0000\n",
            "Epoch 25/25\n",
            "101/101 [==============================] - 21s 203ms/step - loss: 3.1782e-14 - accuracy: 1.0000 - val_loss: 1.2896e-14 - val_accuracy: 1.0000\n"
          ]
        },
        {
          "output_type": "execute_result",
          "data": {
            "text/plain": [
              "<keras.src.callbacks.History at 0x7d9e280b4f70>"
            ]
          },
          "metadata": {},
          "execution_count": 16
        }
      ]
    },
    {
      "cell_type": "markdown",
      "source": [
        "## Langkah 5 - Prediksi dengan 1 Citra"
      ],
      "metadata": {
        "id": "Gqd861_zslcA"
      }
    },
    {
      "cell_type": "code",
      "source": [
        "import numpy as np\n",
        "from keras.preprocessing import image\n",
        "test_image = image.load_img('/content/drive/MyDrive/Machine Learning 23/dataset/single_prediction/cat_or_dog_1.jpg', target_size = (64, 64))\n",
        "test_image = image.img_to_array(test_image)\n",
        "test_image = np.expand_dims(test_image, axis = 0)\n",
        "result = cnn.predict(test_image)\n",
        "training_set.class_indices\n",
        "if result[0][0] == 1:\n",
        "  prediction = 'dog'\n",
        "else:\n",
        "  prediction = 'cat'"
      ],
      "metadata": {
        "id": "Q4C1zUMPsm4Q",
        "outputId": "9f24ee32-7adc-4e64-a89e-a484ff9057df",
        "colab": {
          "base_uri": "https://localhost:8080/"
        }
      },
      "execution_count": null,
      "outputs": [
        {
          "output_type": "stream",
          "name": "stdout",
          "text": [
            "1/1 [==============================] - 0s 137ms/step\n"
          ]
        }
      ]
    }
  ],
  "metadata": {
    "kernelspec": {
      "display_name": "Python 3",
      "name": "python3"
    },
    "language_info": {
      "codemirror_mode": {
        "name": "ipython",
        "version": 3
      },
      "file_extension": ".py",
      "mimetype": "text/x-python",
      "name": "python",
      "nbconvert_exporter": "python",
      "pygments_lexer": "ipython3",
      "version": "3.11.4"
    },
    "orig_nbformat": 4,
    "colab": {
      "provenance": [],
      "gpuType": "T4"
    },
    "accelerator": "GPU"
  },
  "nbformat": 4,
  "nbformat_minor": 0
}