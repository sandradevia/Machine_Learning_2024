{
 "cells": [
  {
   "cell_type": "markdown",
   "metadata": {},
   "source": [
    "# TUGAS 2\n",
    "Buatlah model klasifikasi dengan menggunakan SVM berdasarkan data pada Percobaan 5 dengan menggunakan fitur histogram."
   ]
  },
  {
   "cell_type": "code",
   "execution_count": 2,
   "metadata": {},
   "outputs": [],
   "source": [
    "# Import Required Libraries\n",
    "from pathlib import Path\n",
    "import matplotlib.image as mpimg\n",
    "import matplotlib.pyplot as plt\n",
    "import cv2\n",
    "import random\n",
    "import numpy as np\n",
    "import pandas as pd"
   ]
  },
  {
   "cell_type": "code",
   "execution_count": 3,
   "metadata": {},
   "outputs": [],
   "source": [
    "# Image directories\n",
    "train_dir = \"data/images/images/training/\"\n",
    "test_dir = \"data/images/images/test/\""
   ]
  },
  {
   "cell_type": "code",
   "execution_count": null,
   "metadata": {},
   "outputs": [],
   "source": []
  },
  {
   "cell_type": "code",
   "execution_count": 4,
   "metadata": {},
   "outputs": [],
   "source": [
    "# Function to compute histogram\n",
    "def compute_histogram(image_path):\n",
    "    image = cv2.imread(str(image_path))\n",
    "    image = cv2.cvtColor(image, cv2.COLOR_BGR2GRAY)  # Convert to grayscale\n",
    "    hist = cv2.calcHist([image], [0], None, [256], [0, 256])\n",
    "    hist = cv2.normalize(hist, hist).flatten()  # Normalize histogram\n",
    "    return hist"
   ]
  },
  {
   "cell_type": "code",
   "execution_count": 7,
   "metadata": {},
   "outputs": [],
   "source": [
    "def load_dataset(img_dir):\n",
    "    p = Path(img_dir)\n",
    "    img_list = []\n",
    "\n",
    "    for dir in p.iterdir():\n",
    "        if dir.is_dir():\n",
    "            label = dir.name\n",
    "            for file in dir.glob('*.jpg'):\n",
    "                try:\n",
    "                    img = mpimg.imread(file)\n",
    "                    if img is not None:\n",
    "                        img_list.append((img, label))\n",
    "                except Exception as e:\n",
    "                    print(f\"Error loading image {file}: {e}\")\n",
    "    \n",
    "    return img_list"
   ]
  },
  {
   "cell_type": "code",
   "execution_count": 8,
   "metadata": {},
   "outputs": [],
   "source": [
    "train_img = load_dataset(train_dir)"
   ]
  },
  {
   "cell_type": "code",
   "execution_count": 9,
   "metadata": {},
   "outputs": [],
   "source": [
    "test_img = load_dataset(test_dir)"
   ]
  },
  {
   "cell_type": "code",
   "execution_count": 11,
   "metadata": {},
   "outputs": [],
   "source": [
    "def load_dataset(img_dir):\n",
    "    p = Path(img_dir)\n",
    "    img_list = []\n",
    "\n",
    "    for dir in p.iterdir():\n",
    "        if dir.is_dir():\n",
    "            label = dir.name\n",
    "            for file in dir.glob('*.jpg'):\n",
    "                try:\n",
    "                    img = mpimg.imread(file)\n",
    "                    if img is not None:\n",
    "                        img_list.append((img, label))\n",
    "                except Exception as e:\n",
    "                    print(f\"Error loading image {file}: {e}\")\n",
    "    \n",
    "    return img_list"
   ]
  },
  {
   "cell_type": "code",
   "execution_count": null,
   "metadata": {},
   "outputs": [],
   "source": []
  },
  {
   "cell_type": "code",
   "execution_count": 5,
   "metadata": {},
   "outputs": [
    {
     "ename": "AttributeError",
     "evalue": "'str' object has no attribute 'glob'",
     "output_type": "error",
     "traceback": [
      "\u001b[1;31m---------------------------------------------------------------------------\u001b[0m",
      "\u001b[1;31mAttributeError\u001b[0m                            Traceback (most recent call last)",
      "Cell \u001b[1;32mIn[5], line 6\u001b[0m\n\u001b[0;32m      3\u001b[0m y \u001b[38;5;241m=\u001b[39m []  \u001b[38;5;66;03m# Labels\u001b[39;00m\n\u001b[0;32m      5\u001b[0m \u001b[38;5;66;03m# Iterate through training images\u001b[39;00m\n\u001b[1;32m----> 6\u001b[0m \u001b[38;5;28;01mfor\u001b[39;00m label \u001b[38;5;129;01min\u001b[39;00m \u001b[43mtrain_dir\u001b[49m\u001b[38;5;241;43m.\u001b[39;49m\u001b[43mglob\u001b[49m(\u001b[38;5;124m'\u001b[39m\u001b[38;5;124m*\u001b[39m\u001b[38;5;124m'\u001b[39m):\n\u001b[0;32m      7\u001b[0m     \u001b[38;5;28;01mfor\u001b[39;00m img_path \u001b[38;5;129;01min\u001b[39;00m label\u001b[38;5;241m.\u001b[39mglob(\u001b[38;5;124m'\u001b[39m\u001b[38;5;124m*.jpg\u001b[39m\u001b[38;5;124m'\u001b[39m):  \u001b[38;5;66;03m# Assuming images are in JPG format\u001b[39;00m\n\u001b[0;32m      8\u001b[0m         hist \u001b[38;5;241m=\u001b[39m compute_histogram(img_path)\n",
      "\u001b[1;31mAttributeError\u001b[0m: 'str' object has no attribute 'glob'"
     ]
    }
   ],
   "source": [
    "# Load training data\n",
    "X = []  # Features\n",
    "y = []  # Labels\n",
    "\n",
    "# Iterate through training images\n",
    "for label in train_dir.glob('*'):\n",
    "    for img_path in label.glob('*.jpg'):  # Assuming images are in JPG format\n",
    "        hist = compute_histogram(img_path)\n",
    "        X.append(hist)\n",
    "        y.append(label.name)  # Use folder name as label"
   ]
  },
  {
   "cell_type": "markdown",
   "metadata": {},
   "source": []
  }
 ],
 "metadata": {
  "kernelspec": {
   "display_name": "Python 3",
   "language": "python",
   "name": "python3"
  },
  "language_info": {
   "codemirror_mode": {
    "name": "ipython",
    "version": 3
   },
   "file_extension": ".py",
   "mimetype": "text/x-python",
   "name": "python",
   "nbconvert_exporter": "python",
   "pygments_lexer": "ipython3",
   "version": "3.12.3"
  }
 },
 "nbformat": 4,
 "nbformat_minor": 2
}
